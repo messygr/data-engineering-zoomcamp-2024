{
 "cells": [
  {
   "cell_type": "code",
   "execution_count": 6,
   "id": "5066932b-aab6-427e-97d8-220159a0c9a0",
   "metadata": {},
   "outputs": [
    {
     "name": "stdout",
     "output_type": "stream",
     "text": [
      "1   1.0   1.0\n",
      "2   1.4142135623730951   2.414213562373095\n",
      "3   1.7320508075688772   4.146264369941973\n",
      "4   2.0   6.146264369941973\n",
      "5   2.23606797749979   8.382332347441762\n",
      "6   2.449489742783178   10.83182209022494\n",
      "7   2.6457513110645907   13.47757340128953\n",
      "8   2.8284271247461903   16.30600052603572\n",
      "9   3.0   19.30600052603572\n",
      "10   3.1622776601683795   22.4682781862041\n",
      "11   3.3166247903554   25.7849029765595\n",
      "12   3.4641016151377544   29.249004591697254\n",
      "13   3.605551275463989   32.854555867161245\n"
     ]
    }
   ],
   "source": [
    "def square_root_generator(limit):\n",
    "    n = 1\n",
    "    while n <= limit:\n",
    "        yield n ** 0.5\n",
    "        n += 1\n",
    "\n",
    "# Example usage:\n",
    "limit = 13\n",
    "generator = square_root_generator(limit)\n",
    "\n",
    "n = 0\n",
    "run_sum = 0\n",
    "\n",
    "for sqrt_value in generator:\n",
    "    n += 1\n",
    "    run_sum += sqrt_value\n",
    "    print(n, ' ', sqrt_value, ' ', run_sum)"
   ]
  },
  {
   "cell_type": "code",
   "execution_count": 28,
   "id": "2af8d1c1-feee-4dce-addf-da19b9272442",
   "metadata": {},
   "outputs": [
    {
     "name": "stdout",
     "output_type": "stream",
     "text": [
      "{'ID': 1, 'Name': 'Person_1', 'Age': 26, 'City': 'City_A'}\n",
      "{'ID': 2, 'Name': 'Person_2', 'Age': 27, 'City': 'City_A'}\n",
      "{'ID': 3, 'Name': 'Person_3', 'Age': 28, 'City': 'City_A'}\n",
      "{'ID': 4, 'Name': 'Person_4', 'Age': 29, 'City': 'City_A'}\n",
      "{'ID': 5, 'Name': 'Person_5', 'Age': 30, 'City': 'City_A'}\n"
     ]
    }
   ],
   "source": [
    "def people_1():\n",
    "    for i in range(1, 6):\n",
    "        yield {\"ID\": i, \"Name\": f\"Person_{i}\", \"Age\": 25 + i, \"City\": \"City_A\"}\n",
    "\n",
    "for person in people_1():\n",
    "    print(person)"
   ]
  },
  {
   "cell_type": "code",
   "execution_count": 29,
   "id": "0242e94a-c563-46f7-8d5e-93bec363ec43",
   "metadata": {},
   "outputs": [
    {
     "name": "stdout",
     "output_type": "stream",
     "text": [
      "{'ID': 3, 'Name': 'Person_3', 'Age': 33, 'City': 'City_B', 'Occupation': 'Job_3'}\n",
      "{'ID': 4, 'Name': 'Person_4', 'Age': 34, 'City': 'City_B', 'Occupation': 'Job_4'}\n",
      "{'ID': 5, 'Name': 'Person_5', 'Age': 35, 'City': 'City_B', 'Occupation': 'Job_5'}\n",
      "{'ID': 6, 'Name': 'Person_6', 'Age': 36, 'City': 'City_B', 'Occupation': 'Job_6'}\n",
      "{'ID': 7, 'Name': 'Person_7', 'Age': 37, 'City': 'City_B', 'Occupation': 'Job_7'}\n",
      "{'ID': 8, 'Name': 'Person_8', 'Age': 38, 'City': 'City_B', 'Occupation': 'Job_8'}\n"
     ]
    }
   ],
   "source": [
    "def people_2():\n",
    "    for i in range(3, 9):\n",
    "        yield {\"ID\": i, \"Name\": f\"Person_{i}\", \"Age\": 30 + i, \"City\": \"City_B\", \"Occupation\": f\"Job_{i}\"}\n",
    "\n",
    "\n",
    "for person in people_2():\n",
    "    print(person)"
   ]
  },
  {
   "cell_type": "code",
   "execution_count": 11,
   "id": "947fbf4b-00b3-4f0f-b41b-ae27d79f410a",
   "metadata": {},
   "outputs": [
    {
     "name": "stdout",
     "output_type": "stream",
     "text": [
      "Pipeline dlt_ipykernel_launcher load step completed in 0.20 seconds\n",
      "1 load package(s) were loaded to destination duckdb and into dataset generators\n",
      "The duckdb destination used duckdb:////Users/pavelmatveev/Learning/data-engineering-zoomcamp-2024/dlt_workshop/dlt_ipykernel_launcher.duckdb location to store data\n",
      "Load package 1707766425.010506 is LOADED and contains no failed jobs\n"
     ]
    }
   ],
   "source": [
    "import dlt\n",
    "\n",
    "# define the connection to load to.\n",
    "# We now use duckdb, but you can switch to Bigquery later\n",
    "generators_pipeline = dlt.pipeline(destination='duckdb', dataset_name='generators')\n",
    "\n",
    "\n",
    "# we can load the next generator to the same or to a different table.\n",
    "info = generators_pipeline.run(people_1(),\n",
    "\t\t\t\t\t\t\t   table_name=\"stream_download\",\n",
    "\t\t\t\t\t\t\t   write_disposition=\"replace\")\n",
    "\n",
    "print(info)"
   ]
  },
  {
   "cell_type": "code",
   "execution_count": 18,
   "id": "c10450aa-a621-4a52-89fb-e497c3dd1705",
   "metadata": {},
   "outputs": [
    {
     "name": "stderr",
     "output_type": "stream",
     "text": [
      "/var/folders/rp/d0qnmq2s6d504z6v9nlfbrsh0000gn/T/ipykernel_1343/1292183862.py:2: DeprecationWarning: \n",
      "Pyarrow will become a required dependency of pandas in the next major release of pandas (pandas 3.0),\n",
      "(to allow more performant data types, such as the Arrow string type, and better interoperability with other libraries)\n",
      "but was not found to be installed on your system.\n",
      "If this would cause problems for you,\n",
      "please provide us feedback at https://github.com/pandas-dev/pandas/issues/54466\n",
      "        \n",
      "  import pandas as pd\n"
     ]
    }
   ],
   "source": [
    "import duckdb\n",
    "import pandas as pd"
   ]
  },
  {
   "cell_type": "code",
   "execution_count": 24,
   "id": "81aeced1-59cc-495c-9830-3698a80943ff",
   "metadata": {},
   "outputs": [
    {
     "name": "stdout",
     "output_type": "stream",
     "text": [
      "Loaded tables: \n"
     ]
    },
    {
     "data": {
      "text/plain": [
       "┌─────────────────────┐\n",
       "│        name         │\n",
       "│       varchar       │\n",
       "├─────────────────────┤\n",
       "│ _dlt_loads          │\n",
       "│ _dlt_pipeline_state │\n",
       "│ _dlt_version        │\n",
       "│ stream_download     │\n",
       "└─────────────────────┘"
      ]
     },
     "metadata": {},
     "output_type": "display_data"
    },
    {
     "data": {
      "text/html": [
       "<div>\n",
       "<style scoped>\n",
       "    .dataframe tbody tr th:only-of-type {\n",
       "        vertical-align: middle;\n",
       "    }\n",
       "\n",
       "    .dataframe tbody tr th {\n",
       "        vertical-align: top;\n",
       "    }\n",
       "\n",
       "    .dataframe thead th {\n",
       "        text-align: right;\n",
       "    }\n",
       "</style>\n",
       "<table border=\"1\" class=\"dataframe\">\n",
       "  <thead>\n",
       "    <tr style=\"text-align: right;\">\n",
       "      <th></th>\n",
       "      <th>id</th>\n",
       "      <th>name</th>\n",
       "      <th>age</th>\n",
       "      <th>city</th>\n",
       "      <th>_dlt_load_id</th>\n",
       "      <th>_dlt_id</th>\n",
       "      <th>occupation</th>\n",
       "    </tr>\n",
       "  </thead>\n",
       "  <tbody>\n",
       "    <tr>\n",
       "      <th>0</th>\n",
       "      <td>1</td>\n",
       "      <td>Person_1</td>\n",
       "      <td>26</td>\n",
       "      <td>City_A</td>\n",
       "      <td>1707766425.010506</td>\n",
       "      <td>PnG1LnEVQo0Gww</td>\n",
       "      <td>None</td>\n",
       "    </tr>\n",
       "    <tr>\n",
       "      <th>1</th>\n",
       "      <td>2</td>\n",
       "      <td>Person_2</td>\n",
       "      <td>27</td>\n",
       "      <td>City_A</td>\n",
       "      <td>1707766425.010506</td>\n",
       "      <td>0CCk3/e/OBfm3w</td>\n",
       "      <td>None</td>\n",
       "    </tr>\n",
       "    <tr>\n",
       "      <th>2</th>\n",
       "      <td>3</td>\n",
       "      <td>Person_3</td>\n",
       "      <td>28</td>\n",
       "      <td>City_A</td>\n",
       "      <td>1707766425.010506</td>\n",
       "      <td>VkC47eIB+8Tk6w</td>\n",
       "      <td>None</td>\n",
       "    </tr>\n",
       "    <tr>\n",
       "      <th>3</th>\n",
       "      <td>4</td>\n",
       "      <td>Person_4</td>\n",
       "      <td>29</td>\n",
       "      <td>City_A</td>\n",
       "      <td>1707766425.010506</td>\n",
       "      <td>OI97A/wHVHy0yw</td>\n",
       "      <td>None</td>\n",
       "    </tr>\n",
       "    <tr>\n",
       "      <th>4</th>\n",
       "      <td>5</td>\n",
       "      <td>Person_5</td>\n",
       "      <td>30</td>\n",
       "      <td>City_A</td>\n",
       "      <td>1707766425.010506</td>\n",
       "      <td>Q6ophg2GpKgT0w</td>\n",
       "      <td>None</td>\n",
       "    </tr>\n",
       "    <tr>\n",
       "      <th>5</th>\n",
       "      <td>3</td>\n",
       "      <td>Person_3</td>\n",
       "      <td>33</td>\n",
       "      <td>City_B</td>\n",
       "      <td>1707767072.864764</td>\n",
       "      <td>Qok2wu6MLPAVZg</td>\n",
       "      <td>Job_3</td>\n",
       "    </tr>\n",
       "    <tr>\n",
       "      <th>6</th>\n",
       "      <td>4</td>\n",
       "      <td>Person_4</td>\n",
       "      <td>34</td>\n",
       "      <td>City_B</td>\n",
       "      <td>1707767072.864764</td>\n",
       "      <td>Znj2wzwDa8zlZw</td>\n",
       "      <td>Job_4</td>\n",
       "    </tr>\n",
       "    <tr>\n",
       "      <th>7</th>\n",
       "      <td>5</td>\n",
       "      <td>Person_5</td>\n",
       "      <td>35</td>\n",
       "      <td>City_B</td>\n",
       "      <td>1707767072.864764</td>\n",
       "      <td>nLqLETNa9+YIUw</td>\n",
       "      <td>Job_5</td>\n",
       "    </tr>\n",
       "    <tr>\n",
       "      <th>8</th>\n",
       "      <td>6</td>\n",
       "      <td>Person_6</td>\n",
       "      <td>36</td>\n",
       "      <td>City_B</td>\n",
       "      <td>1707767072.864764</td>\n",
       "      <td>cf3hODqCBhqZRA</td>\n",
       "      <td>Job_6</td>\n",
       "    </tr>\n",
       "    <tr>\n",
       "      <th>9</th>\n",
       "      <td>7</td>\n",
       "      <td>Person_7</td>\n",
       "      <td>37</td>\n",
       "      <td>City_B</td>\n",
       "      <td>1707767072.864764</td>\n",
       "      <td>flu4ctyjOJJ5GQ</td>\n",
       "      <td>Job_7</td>\n",
       "    </tr>\n",
       "    <tr>\n",
       "      <th>10</th>\n",
       "      <td>8</td>\n",
       "      <td>Person_8</td>\n",
       "      <td>38</td>\n",
       "      <td>City_B</td>\n",
       "      <td>1707767072.864764</td>\n",
       "      <td>ZQAqrfXiwA3W7g</td>\n",
       "      <td>Job_8</td>\n",
       "    </tr>\n",
       "  </tbody>\n",
       "</table>\n",
       "</div>"
      ],
      "text/plain": [
       "    id      name  age    city       _dlt_load_id         _dlt_id occupation\n",
       "0    1  Person_1   26  City_A  1707766425.010506  PnG1LnEVQo0Gww       None\n",
       "1    2  Person_2   27  City_A  1707766425.010506  0CCk3/e/OBfm3w       None\n",
       "2    3  Person_3   28  City_A  1707766425.010506  VkC47eIB+8Tk6w       None\n",
       "3    4  Person_4   29  City_A  1707766425.010506  OI97A/wHVHy0yw       None\n",
       "4    5  Person_5   30  City_A  1707766425.010506  Q6ophg2GpKgT0w       None\n",
       "5    3  Person_3   33  City_B  1707767072.864764  Qok2wu6MLPAVZg      Job_3\n",
       "6    4  Person_4   34  City_B  1707767072.864764  Znj2wzwDa8zlZw      Job_4\n",
       "7    5  Person_5   35  City_B  1707767072.864764  nLqLETNa9+YIUw      Job_5\n",
       "8    6  Person_6   36  City_B  1707767072.864764  cf3hODqCBhqZRA      Job_6\n",
       "9    7  Person_7   37  City_B  1707767072.864764  flu4ctyjOJJ5GQ      Job_7\n",
       "10   8  Person_8   38  City_B  1707767072.864764  ZQAqrfXiwA3W7g      Job_8"
      ]
     },
     "metadata": {},
     "output_type": "display_data"
    },
    {
     "data": {
      "text/html": [
       "<div>\n",
       "<style scoped>\n",
       "    .dataframe tbody tr th:only-of-type {\n",
       "        vertical-align: middle;\n",
       "    }\n",
       "\n",
       "    .dataframe tbody tr th {\n",
       "        vertical-align: top;\n",
       "    }\n",
       "\n",
       "    .dataframe thead th {\n",
       "        text-align: right;\n",
       "    }\n",
       "</style>\n",
       "<table border=\"1\" class=\"dataframe\">\n",
       "  <thead>\n",
       "    <tr style=\"text-align: right;\">\n",
       "      <th></th>\n",
       "      <th>sum(age)</th>\n",
       "    </tr>\n",
       "  </thead>\n",
       "  <tbody>\n",
       "    <tr>\n",
       "      <th>0</th>\n",
       "      <td>353.0</td>\n",
       "    </tr>\n",
       "  </tbody>\n",
       "</table>\n",
       "</div>"
      ],
      "text/plain": [
       "   sum(age)\n",
       "0     353.0"
      ]
     },
     "metadata": {},
     "output_type": "display_data"
    }
   ],
   "source": [
    "# show the outcome\n",
    "conn = duckdb.connect(f\"{generators_pipeline.pipeline_name}.duckdb\")\n",
    "\n",
    "# let's see the tables\n",
    "conn.sql(f\"SET search_path = '{generators_pipeline.dataset_name}'\")\n",
    "print('Loaded tables: ')\n",
    "display(conn.sql(\"show tables\"))\n",
    "\n",
    "people_1 = conn.sql(\"SELECT * FROM stream_download\").df()\n",
    "display(people_1)\n",
    "\n",
    "people_1 = conn.sql(\"SELECT sum(age) FROM stream_download\").df()\n",
    "display(people_1)"
   ]
  },
  {
   "cell_type": "code",
   "execution_count": 22,
   "id": "9cf5c25a-5b76-41f9-983c-bbc82228248d",
   "metadata": {},
   "outputs": [
    {
     "name": "stdout",
     "output_type": "stream",
     "text": [
      "Pipeline dlt_ipykernel_launcher load step completed in 0.16 seconds\n",
      "1 load package(s) were loaded to destination duckdb and into dataset generators\n",
      "The duckdb destination used duckdb:////Users/pavelmatveev/Learning/data-engineering-zoomcamp-2024/dlt_workshop/dlt_ipykernel_launcher.duckdb location to store data\n",
      "Load package 1707767072.864764 is LOADED and contains no failed jobs\n"
     ]
    }
   ],
   "source": [
    "info = generators_pipeline.run(people_2(),\n",
    "\t\t\t\t\t\t\t   table_name=\"stream_download\",\n",
    "\t\t\t\t\t\t\t   write_disposition=\"append\")\n",
    "\n",
    "print(info)"
   ]
  },
  {
   "cell_type": "code",
   "execution_count": 32,
   "id": "62e415eb-3cad-44e3-9f82-14b080ec8764",
   "metadata": {},
   "outputs": [
    {
     "name": "stdout",
     "output_type": "stream",
     "text": [
      "Pipeline dlt_ipykernel_launcher load step completed in 0.29 seconds\n",
      "1 load package(s) were loaded to destination duckdb and into dataset generators\n",
      "The duckdb destination used duckdb:////Users/pavelmatveev/Learning/data-engineering-zoomcamp-2024/dlt_workshop/dlt_ipykernel_launcher.duckdb location to store data\n",
      "Load package 1707767733.225007 is LOADED and contains no failed jobs\n"
     ]
    }
   ],
   "source": [
    "# generators_pipeline = dlt.pipeline(destination='duckdb', dataset_name='generators')\n",
    "\n",
    "# info_1 = generators_pipeline.run(people_1(),\n",
    "# \t\t\t\t\t\t\t     table_name=\"stream_download_merge\",\n",
    "# \t\t\t\t\t\t\t     write_disposition=\"replace\")\n",
    "\n",
    "# print(info_1)\n",
    "\n",
    "\n",
    "info_2 = generators_pipeline.run(people_2(),\n",
    "\t\t\t\t\t\t\t     table_name=\"stream_download_merge\",\n",
    "\t\t\t\t\t\t\t     write_disposition=\"merge\",\n",
    "                                 primary_key=\"id\")\n",
    "\n",
    "print(info_2)"
   ]
  },
  {
   "cell_type": "code",
   "execution_count": 33,
   "id": "8b9b903e-cc9d-4ba6-aba1-713578993579",
   "metadata": {},
   "outputs": [
    {
     "name": "stdout",
     "output_type": "stream",
     "text": [
      "Loaded tables: \n"
     ]
    },
    {
     "data": {
      "text/plain": [
       "┌───────────────────────┐\n",
       "│         name          │\n",
       "│        varchar        │\n",
       "├───────────────────────┤\n",
       "│ _dlt_loads            │\n",
       "│ _dlt_pipeline_state   │\n",
       "│ _dlt_version          │\n",
       "│ stream_download       │\n",
       "│ stream_download_merge │\n",
       "└───────────────────────┘"
      ]
     },
     "metadata": {},
     "output_type": "display_data"
    },
    {
     "data": {
      "text/html": [
       "<div>\n",
       "<style scoped>\n",
       "    .dataframe tbody tr th:only-of-type {\n",
       "        vertical-align: middle;\n",
       "    }\n",
       "\n",
       "    .dataframe tbody tr th {\n",
       "        vertical-align: top;\n",
       "    }\n",
       "\n",
       "    .dataframe thead th {\n",
       "        text-align: right;\n",
       "    }\n",
       "</style>\n",
       "<table border=\"1\" class=\"dataframe\">\n",
       "  <thead>\n",
       "    <tr style=\"text-align: right;\">\n",
       "      <th></th>\n",
       "      <th>id</th>\n",
       "      <th>name</th>\n",
       "      <th>age</th>\n",
       "      <th>city</th>\n",
       "      <th>_dlt_load_id</th>\n",
       "      <th>_dlt_id</th>\n",
       "      <th>occupation</th>\n",
       "    </tr>\n",
       "  </thead>\n",
       "  <tbody>\n",
       "    <tr>\n",
       "      <th>0</th>\n",
       "      <td>1</td>\n",
       "      <td>Person_1</td>\n",
       "      <td>26</td>\n",
       "      <td>City_A</td>\n",
       "      <td>1707767583.8643599</td>\n",
       "      <td>WcVR1cwJcBp3jg</td>\n",
       "      <td>None</td>\n",
       "    </tr>\n",
       "    <tr>\n",
       "      <th>1</th>\n",
       "      <td>2</td>\n",
       "      <td>Person_2</td>\n",
       "      <td>27</td>\n",
       "      <td>City_A</td>\n",
       "      <td>1707767583.8643599</td>\n",
       "      <td>EzZe0Eg+GkZtgA</td>\n",
       "      <td>None</td>\n",
       "    </tr>\n",
       "    <tr>\n",
       "      <th>2</th>\n",
       "      <td>8</td>\n",
       "      <td>Person_8</td>\n",
       "      <td>38</td>\n",
       "      <td>City_B</td>\n",
       "      <td>1707767733.225007</td>\n",
       "      <td>GK5l97wl2YjCNA</td>\n",
       "      <td>Job_8</td>\n",
       "    </tr>\n",
       "    <tr>\n",
       "      <th>3</th>\n",
       "      <td>4</td>\n",
       "      <td>Person_4</td>\n",
       "      <td>34</td>\n",
       "      <td>City_B</td>\n",
       "      <td>1707767733.225007</td>\n",
       "      <td>3Ca68RuNAh1RkQ</td>\n",
       "      <td>Job_4</td>\n",
       "    </tr>\n",
       "    <tr>\n",
       "      <th>4</th>\n",
       "      <td>5</td>\n",
       "      <td>Person_5</td>\n",
       "      <td>35</td>\n",
       "      <td>City_B</td>\n",
       "      <td>1707767733.225007</td>\n",
       "      <td>3bMGikO1gz/K1A</td>\n",
       "      <td>Job_5</td>\n",
       "    </tr>\n",
       "    <tr>\n",
       "      <th>5</th>\n",
       "      <td>7</td>\n",
       "      <td>Person_7</td>\n",
       "      <td>37</td>\n",
       "      <td>City_B</td>\n",
       "      <td>1707767733.225007</td>\n",
       "      <td>inTbiWFY4vPmkQ</td>\n",
       "      <td>Job_7</td>\n",
       "    </tr>\n",
       "    <tr>\n",
       "      <th>6</th>\n",
       "      <td>3</td>\n",
       "      <td>Person_3</td>\n",
       "      <td>33</td>\n",
       "      <td>City_B</td>\n",
       "      <td>1707767733.225007</td>\n",
       "      <td>+68UerjyfpKAvQ</td>\n",
       "      <td>Job_3</td>\n",
       "    </tr>\n",
       "    <tr>\n",
       "      <th>7</th>\n",
       "      <td>6</td>\n",
       "      <td>Person_6</td>\n",
       "      <td>36</td>\n",
       "      <td>City_B</td>\n",
       "      <td>1707767733.225007</td>\n",
       "      <td>HdrDR5jYc/pleA</td>\n",
       "      <td>Job_6</td>\n",
       "    </tr>\n",
       "  </tbody>\n",
       "</table>\n",
       "</div>"
      ],
      "text/plain": [
       "   id      name  age    city        _dlt_load_id         _dlt_id occupation\n",
       "0   1  Person_1   26  City_A  1707767583.8643599  WcVR1cwJcBp3jg       None\n",
       "1   2  Person_2   27  City_A  1707767583.8643599  EzZe0Eg+GkZtgA       None\n",
       "2   8  Person_8   38  City_B   1707767733.225007  GK5l97wl2YjCNA      Job_8\n",
       "3   4  Person_4   34  City_B   1707767733.225007  3Ca68RuNAh1RkQ      Job_4\n",
       "4   5  Person_5   35  City_B   1707767733.225007  3bMGikO1gz/K1A      Job_5\n",
       "5   7  Person_7   37  City_B   1707767733.225007  inTbiWFY4vPmkQ      Job_7\n",
       "6   3  Person_3   33  City_B   1707767733.225007  +68UerjyfpKAvQ      Job_3\n",
       "7   6  Person_6   36  City_B   1707767733.225007  HdrDR5jYc/pleA      Job_6"
      ]
     },
     "metadata": {},
     "output_type": "display_data"
    },
    {
     "data": {
      "text/html": [
       "<div>\n",
       "<style scoped>\n",
       "    .dataframe tbody tr th:only-of-type {\n",
       "        vertical-align: middle;\n",
       "    }\n",
       "\n",
       "    .dataframe tbody tr th {\n",
       "        vertical-align: top;\n",
       "    }\n",
       "\n",
       "    .dataframe thead th {\n",
       "        text-align: right;\n",
       "    }\n",
       "</style>\n",
       "<table border=\"1\" class=\"dataframe\">\n",
       "  <thead>\n",
       "    <tr style=\"text-align: right;\">\n",
       "      <th></th>\n",
       "      <th>sum(age)</th>\n",
       "    </tr>\n",
       "  </thead>\n",
       "  <tbody>\n",
       "    <tr>\n",
       "      <th>0</th>\n",
       "      <td>266.0</td>\n",
       "    </tr>\n",
       "  </tbody>\n",
       "</table>\n",
       "</div>"
      ],
      "text/plain": [
       "   sum(age)\n",
       "0     266.0"
      ]
     },
     "metadata": {},
     "output_type": "display_data"
    }
   ],
   "source": [
    "# show the outcome\n",
    "conn = duckdb.connect(f\"{generators_pipeline.pipeline_name}.duckdb\")\n",
    "\n",
    "# let's see the tables\n",
    "conn.sql(f\"SET search_path = '{generators_pipeline.dataset_name}'\")\n",
    "print('Loaded tables: ')\n",
    "display(conn.sql(\"show tables\"))\n",
    "\n",
    "people_1 = conn.sql(\"SELECT * FROM stream_download_merge\").df()\n",
    "display(people_1)\n",
    "\n",
    "people_1 = conn.sql(\"SELECT sum(age) FROM stream_download_merge\").df()\n",
    "display(people_1)"
   ]
  },
  {
   "cell_type": "code",
   "execution_count": null,
   "id": "320cee62-3e67-4625-8a4a-97589fc85329",
   "metadata": {},
   "outputs": [],
   "source": []
  }
 ],
 "metadata": {
  "kernelspec": {
   "display_name": "Python 3 (ipykernel)",
   "language": "python",
   "name": "python3"
  },
  "language_info": {
   "codemirror_mode": {
    "name": "ipython",
    "version": 3
   },
   "file_extension": ".py",
   "mimetype": "text/x-python",
   "name": "python",
   "nbconvert_exporter": "python",
   "pygments_lexer": "ipython3",
   "version": "3.11.7"
  }
 },
 "nbformat": 4,
 "nbformat_minor": 5
}
